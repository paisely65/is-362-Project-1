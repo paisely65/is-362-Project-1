{
 "cells": [
  {
   "cell_type": "markdown",
   "metadata": {},
   "source": [
    "## The following is an analysis of the flight delays among Alaska airlines and AW West airlines for travel to Los Angelos, Pheonix, San Diego, San Francisco and Seattle."
   ]
  },
  {
   "cell_type": "code",
   "execution_count": 1,
   "metadata": {
    "collapsed": true
   },
   "outputs": [],
   "source": [
    "import pandas as pd"
   ]
  },
  {
   "cell_type": "code",
   "execution_count": 50,
   "metadata": {
    "collapsed": false
   },
   "outputs": [],
   "source": [
    "#Read information from the csv file into pandas\n",
    "airline_data=pd.read_csv(\"/Users/candacegrant/Desktop/IS362 Date Acquisition/IS362 Project 1.csv\")\n"
   ]
  },
  {
   "cell_type": "code",
   "execution_count": 51,
   "metadata": {
    "collapsed": false
   },
   "outputs": [
    {
     "data": {
      "text/html": [
       "<div>\n",
       "<table border=\"1\" class=\"dataframe\">\n",
       "  <thead>\n",
       "    <tr style=\"text-align: right;\">\n",
       "      <th></th>\n",
       "      <th>City</th>\n",
       "      <th>Alaska_On_Time</th>\n",
       "      <th>Alaska_Delay</th>\n",
       "      <th>AM WEST_On_Time</th>\n",
       "      <th>AM WEST_Delay</th>\n",
       "    </tr>\n",
       "  </thead>\n",
       "  <tbody>\n",
       "    <tr>\n",
       "      <th>0</th>\n",
       "      <td>Los Angelos</td>\n",
       "      <td>497</td>\n",
       "      <td>62</td>\n",
       "      <td>694</td>\n",
       "      <td>117</td>\n",
       "    </tr>\n",
       "    <tr>\n",
       "      <th>1</th>\n",
       "      <td>Pheonix</td>\n",
       "      <td>221</td>\n",
       "      <td>12</td>\n",
       "      <td>4840</td>\n",
       "      <td>415</td>\n",
       "    </tr>\n",
       "    <tr>\n",
       "      <th>2</th>\n",
       "      <td>San Diego</td>\n",
       "      <td>212</td>\n",
       "      <td>20</td>\n",
       "      <td>383</td>\n",
       "      <td>65</td>\n",
       "    </tr>\n",
       "    <tr>\n",
       "      <th>3</th>\n",
       "      <td>San Francisco</td>\n",
       "      <td>503</td>\n",
       "      <td>102</td>\n",
       "      <td>320</td>\n",
       "      <td>129</td>\n",
       "    </tr>\n",
       "    <tr>\n",
       "      <th>4</th>\n",
       "      <td>Seattle</td>\n",
       "      <td>1841</td>\n",
       "      <td>305</td>\n",
       "      <td>201</td>\n",
       "      <td>61</td>\n",
       "    </tr>\n",
       "  </tbody>\n",
       "</table>\n",
       "</div>"
      ],
      "text/plain": [
       "             City  Alaska_On_Time  Alaska_Delay  AM WEST_On_Time  \\\n",
       "0     Los Angelos             497            62              694   \n",
       "1         Pheonix             221            12             4840   \n",
       "2       San Diego             212            20              383   \n",
       "3  San Francisco              503           102              320   \n",
       "4         Seattle            1841           305              201   \n",
       "\n",
       "   AM WEST_Delay  \n",
       "0            117  \n",
       "1            415  \n",
       "2             65  \n",
       "3            129  \n",
       "4             61  "
      ]
     },
     "execution_count": 51,
     "metadata": {},
     "output_type": "execute_result"
    }
   ],
   "source": [
    "#Analysis of the first 5 rows to check the validity of the data.\n",
    "airline_data.head()"
   ]
  },
  {
   "cell_type": "code",
   "execution_count": 52,
   "metadata": {
    "collapsed": false
   },
   "outputs": [
    {
     "name": "stdout",
     "output_type": "stream",
     "text": [
      "             City  Alaska_On_Time  Alaska_Delay  AM WEST_On_Time  \\\n",
      "0     Los Angelos             497            62              694   \n",
      "1         Pheonix             221            12             4840   \n",
      "2       San Diego             212            20              383   \n",
      "3  San Francisco              503           102              320   \n",
      "4         Seattle            1841           305              201   \n",
      "\n",
      "   AM WEST_Delay  \n",
      "0            117  \n",
      "1            415  \n",
      "2             65  \n",
      "3            129  \n",
      "4             61  \n"
     ]
    }
   ],
   "source": [
    "# After verifying the data, the entire table is printed with indexes.\n",
    "print(airline_data)"
   ]
  },
  {
   "cell_type": "code",
   "execution_count": 53,
   "metadata": {
    "collapsed": false
   },
   "outputs": [
    {
     "data": {
      "text/html": [
       "<div>\n",
       "<table border=\"1\" class=\"dataframe\">\n",
       "  <thead>\n",
       "    <tr style=\"text-align: right;\">\n",
       "      <th></th>\n",
       "      <th>City</th>\n",
       "      <th>Alaska_On_Time</th>\n",
       "      <th>Alaska_Delay</th>\n",
       "      <th>AM WEST_On_Time</th>\n",
       "      <th>AM WEST_Delay</th>\n",
       "    </tr>\n",
       "  </thead>\n",
       "  <tbody>\n",
       "    <tr>\n",
       "      <th>4</th>\n",
       "      <td>Seattle</td>\n",
       "      <td>1841</td>\n",
       "      <td>305</td>\n",
       "      <td>201</td>\n",
       "      <td>61</td>\n",
       "    </tr>\n",
       "    <tr>\n",
       "      <th>3</th>\n",
       "      <td>San Francisco</td>\n",
       "      <td>503</td>\n",
       "      <td>102</td>\n",
       "      <td>320</td>\n",
       "      <td>129</td>\n",
       "    </tr>\n",
       "    <tr>\n",
       "      <th>0</th>\n",
       "      <td>Los Angelos</td>\n",
       "      <td>497</td>\n",
       "      <td>62</td>\n",
       "      <td>694</td>\n",
       "      <td>117</td>\n",
       "    </tr>\n",
       "    <tr>\n",
       "      <th>2</th>\n",
       "      <td>San Diego</td>\n",
       "      <td>212</td>\n",
       "      <td>20</td>\n",
       "      <td>383</td>\n",
       "      <td>65</td>\n",
       "    </tr>\n",
       "    <tr>\n",
       "      <th>1</th>\n",
       "      <td>Pheonix</td>\n",
       "      <td>221</td>\n",
       "      <td>12</td>\n",
       "      <td>4840</td>\n",
       "      <td>415</td>\n",
       "    </tr>\n",
       "  </tbody>\n",
       "</table>\n",
       "</div>"
      ],
      "text/plain": [
       "             City  Alaska_On_Time  Alaska_Delay  AM WEST_On_Time  \\\n",
       "4         Seattle            1841           305              201   \n",
       "3  San Francisco              503           102              320   \n",
       "0     Los Angelos             497            62              694   \n",
       "2       San Diego             212            20              383   \n",
       "1         Pheonix             221            12             4840   \n",
       "\n",
       "   AM WEST_Delay  \n",
       "4             61  \n",
       "3            129  \n",
       "0            117  \n",
       "2             65  \n",
       "1            415  "
      ]
     },
     "execution_count": 53,
     "metadata": {},
     "output_type": "execute_result"
    }
   ],
   "source": [
    "# Comparison of the arrival delays of the Alaska airlines\n",
    "airline_data.sort_values(by='Alaska_Delay', ascending=False)"
   ]
  },
  {
   "cell_type": "code",
   "execution_count": 55,
   "metadata": {
    "collapsed": false
   },
   "outputs": [
    {
     "data": {
      "text/html": [
       "<div>\n",
       "<table border=\"1\" class=\"dataframe\">\n",
       "  <thead>\n",
       "    <tr style=\"text-align: right;\">\n",
       "      <th></th>\n",
       "      <th>City</th>\n",
       "      <th>Alaska_On_Time</th>\n",
       "      <th>Alaska_Delay</th>\n",
       "      <th>AM WEST_On_Time</th>\n",
       "      <th>AM WEST_Delay</th>\n",
       "    </tr>\n",
       "  </thead>\n",
       "  <tbody>\n",
       "    <tr>\n",
       "      <th>1</th>\n",
       "      <td>Pheonix</td>\n",
       "      <td>221</td>\n",
       "      <td>12</td>\n",
       "      <td>4840</td>\n",
       "      <td>415</td>\n",
       "    </tr>\n",
       "    <tr>\n",
       "      <th>3</th>\n",
       "      <td>San Francisco</td>\n",
       "      <td>503</td>\n",
       "      <td>102</td>\n",
       "      <td>320</td>\n",
       "      <td>129</td>\n",
       "    </tr>\n",
       "    <tr>\n",
       "      <th>0</th>\n",
       "      <td>Los Angelos</td>\n",
       "      <td>497</td>\n",
       "      <td>62</td>\n",
       "      <td>694</td>\n",
       "      <td>117</td>\n",
       "    </tr>\n",
       "    <tr>\n",
       "      <th>2</th>\n",
       "      <td>San Diego</td>\n",
       "      <td>212</td>\n",
       "      <td>20</td>\n",
       "      <td>383</td>\n",
       "      <td>65</td>\n",
       "    </tr>\n",
       "    <tr>\n",
       "      <th>4</th>\n",
       "      <td>Seattle</td>\n",
       "      <td>1841</td>\n",
       "      <td>305</td>\n",
       "      <td>201</td>\n",
       "      <td>61</td>\n",
       "    </tr>\n",
       "  </tbody>\n",
       "</table>\n",
       "</div>"
      ],
      "text/plain": [
       "             City  Alaska_On_Time  Alaska_Delay  AM WEST_On_Time  \\\n",
       "1         Pheonix             221            12             4840   \n",
       "3  San Francisco              503           102              320   \n",
       "0     Los Angelos             497            62              694   \n",
       "2       San Diego             212            20              383   \n",
       "4         Seattle            1841           305              201   \n",
       "\n",
       "   AM WEST_Delay  \n",
       "1            415  \n",
       "3            129  \n",
       "0            117  \n",
       "2             65  \n",
       "4             61  "
      ]
     },
     "execution_count": 55,
     "metadata": {},
     "output_type": "execute_result"
    }
   ],
   "source": [
    "# Comparison of the arrival delays of the AM airlines\n",
    "airline_data.sort_values(by='AM WEST_Delay', ascending=False)"
   ]
  },
  {
   "cell_type": "code",
   "execution_count": 56,
   "metadata": {
    "collapsed": false
   },
   "outputs": [
    {
     "data": {
      "text/plain": [
       "count      5.000000\n",
       "mean     100.200000\n",
       "std      120.017499\n",
       "min       12.000000\n",
       "25%       20.000000\n",
       "50%       62.000000\n",
       "75%      102.000000\n",
       "max      305.000000\n",
       "Name: Alaska_Delay, dtype: float64"
      ]
     },
     "execution_count": 56,
     "metadata": {},
     "output_type": "execute_result"
    }
   ],
   "source": [
    "#Analyze the statistical details of the Alaska airlines delay\n",
    "airline_data['Alaska_Delay'].describe()\n"
   ]
  },
  {
   "cell_type": "code",
   "execution_count": 57,
   "metadata": {
    "collapsed": false
   },
   "outputs": [
    {
     "data": {
      "text/plain": [
       "count      5.000000\n",
       "mean     157.400000\n",
       "std      147.162495\n",
       "min       61.000000\n",
       "25%       65.000000\n",
       "50%      117.000000\n",
       "75%      129.000000\n",
       "max      415.000000\n",
       "Name: AM WEST_Delay, dtype: float64"
      ]
     },
     "execution_count": 57,
     "metadata": {},
     "output_type": "execute_result"
    }
   ],
   "source": [
    "#Analyze the statistical details of the AM airlines delay\n",
    "airline_data['AM WEST_Delay'].describe()"
   ]
  },
  {
   "cell_type": "code",
   "execution_count": 58,
   "metadata": {
    "collapsed": false
   },
   "outputs": [
    {
     "data": {
      "text/plain": [
       "(count      5.000000\n",
       " mean     157.400000\n",
       " std      147.162495\n",
       " min       61.000000\n",
       " 25%       65.000000\n",
       " 50%      117.000000\n",
       " 75%      129.000000\n",
       " max      415.000000\n",
       " Name: AM WEST_Delay, dtype: float64, count      5.000000\n",
       " mean     100.200000\n",
       " std      120.017499\n",
       " min       12.000000\n",
       " 25%       20.000000\n",
       " 50%       62.000000\n",
       " 75%      102.000000\n",
       " max      305.000000\n",
       " Name: Alaska_Delay, dtype: float64)"
      ]
     },
     "execution_count": 58,
     "metadata": {},
     "output_type": "execute_result"
    }
   ],
   "source": [
    "# Creating  a side by side two level grouping of delay statistics for both Alaska and AM airlines\n",
    "airline_data['AM WEST_Delay'].describe(), airline_data['Alaska_Delay'].describe()"
   ]
  },
  {
   "cell_type": "code",
   "execution_count": 62,
   "metadata": {
    "collapsed": false
   },
   "outputs": [
    {
     "data": {
      "text/plain": [
       "(100.2, 157.4)"
      ]
     },
     "execution_count": 62,
     "metadata": {},
     "output_type": "execute_result"
    }
   ],
   "source": [
    "# The average nummber of delays is greater for AM airlines than Alaska airlines.\n",
    "airline_data['Alaska_Delay'].mean(), airline_data['AM WEST_Delay'].mean()"
   ]
  },
  {
   "cell_type": "code",
   "execution_count": 61,
   "metadata": {
    "collapsed": false
   },
   "outputs": [
    {
     "data": {
      "text/plain": [
       "(12, 61)"
      ]
     },
     "execution_count": 61,
     "metadata": {},
     "output_type": "execute_result"
    }
   ],
   "source": [
    "# Further analysis shows that Alaska had the lowest number of delays per destination that AM\n",
    "airline_data['Alaska_Delay'].min(), airline_data['AM WEST_Delay'].min()"
   ]
  },
  {
   "cell_type": "code",
   "execution_count": 60,
   "metadata": {
    "collapsed": false
   },
   "outputs": [
    {
     "data": {
      "text/plain": [
       "(305, 415)"
      ]
     },
     "execution_count": 60,
     "metadata": {},
     "output_type": "execute_result"
    }
   ],
   "source": [
    "# The largest number of delays per destinaltion occurred in Alaska airlines\n",
    "airline_data['Alaska_Delay'].max(), airline_data['AM WEST_Delay'].max()"
   ]
  },
  {
   "cell_type": "code",
   "execution_count": 59,
   "metadata": {
    "collapsed": false
   },
   "outputs": [
    {
     "data": {
      "text/plain": [
       "(120.0174987241444, 147.16249522211834)"
      ]
     },
     "execution_count": 59,
     "metadata": {},
     "output_type": "execute_result"
    }
   ],
   "source": [
    "# Analysis of the reliability of the airlines based on standard deviation values\n",
    "airline_data['Alaska_Delay'].std(), airline_data['AM WEST_Delay'].std()\n"
   ]
  },
  {
   "cell_type": "markdown",
   "metadata": {},
   "source": [
    "# Conclusion\n",
    "### The statistical data from the dataset of the airlines, Alaska and AM West show that both experience a significant amount of delays among the five cities sampled. Alaska had the lowest number of delays per city as well as the lowest average delays per city sampled in the data set. The lower mean and minimum number of delays shows that the range of delays is lower for Alaska airlines than AM West airlines among the five cities samples. This means that you are more likely to expeerinece a delay travelling on AM West airlines than Alaska airlines. The standerd deviation among both airlines further proves that Alaska is more reliable than AM West for the cities travelled. The smaller standard deviation among Alaska airlilnes shows that values for the the number of delays in each city is more clustered around the mean indicating that there is less variation in the delays from Alaska airlines than Alaska airlines. \n"
   ]
  }
 ],
 "metadata": {
  "kernelspec": {
   "display_name": "Python 3",
   "language": "python",
   "name": "python3"
  },
  "language_info": {
   "codemirror_mode": {
    "name": "ipython",
    "version": 3
   },
   "file_extension": ".py",
   "mimetype": "text/x-python",
   "name": "python",
   "nbconvert_exporter": "python",
   "pygments_lexer": "ipython3",
   "version": "3.6.0"
  }
 },
 "nbformat": 4,
 "nbformat_minor": 2
}
